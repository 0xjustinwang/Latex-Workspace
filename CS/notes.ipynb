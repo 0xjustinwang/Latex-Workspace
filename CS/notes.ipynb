{
 "cells": [
  {
   "cell_type": "markdown",
   "id": "1c70dabf",
   "metadata": {
    "vscode": {
     "languageId": "latex"
    }
   },
   "source": [
    "Notes 10/3/25: Variables, Types, Expressions"
   ]
  },
  {
   "cell_type": "markdown",
   "id": "253ad104",
   "metadata": {},
   "source": [
    "1.1 Type Casting Example"
   ]
  },
  {
   "cell_type": "code",
   "execution_count": 1,
   "id": "b177e0e8",
   "metadata": {},
   "outputs": [
    {
     "name": "stdout",
     "output_type": "stream",
     "text": [
      "25\n"
     ]
    }
   ],
   "source": [
    "number = \"13\"\n",
    "print (int(number) + 12)"
   ]
  },
  {
   "cell_type": "markdown",
   "id": "eb0913ca",
   "metadata": {},
   "source": [
    "1.2 Fahrenheit to Celsius Converter"
   ]
  },
  {
   "cell_type": "code",
   "execution_count": 6,
   "id": "e05e51bd",
   "metadata": {},
   "outputs": [
    {
     "name": "stdout",
     "output_type": "stream",
     "text": [
      "10.0\n"
     ]
    }
   ],
   "source": [
    "temp = input(\"Enter temperature in Fahrenheit: \")\n",
    "\n",
    "def convert_temp(t):\n",
    "    return (t-32) / 1.8\n",
    "\n",
    "print(convert_temp(int(temp)))\n"
   ]
  }
 ],
 "metadata": {
  "kernelspec": {
   "display_name": ".venv",
   "language": "python",
   "name": "python3"
  },
  "language_info": {
   "codemirror_mode": {
    "name": "ipython",
    "version": 3
   },
   "file_extension": ".py",
   "mimetype": "text/x-python",
   "name": "python",
   "nbconvert_exporter": "python",
   "pygments_lexer": "ipython3",
   "version": "3.12.3"
  }
 },
 "nbformat": 4,
 "nbformat_minor": 5
}
