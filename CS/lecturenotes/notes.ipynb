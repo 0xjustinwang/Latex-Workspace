{
 "cells": [
  {
   "cell_type": "markdown",
   "id": "1c70dabf",
   "metadata": {
    "vscode": {
     "languageId": "latex"
    }
   },
   "source": [
    "Notes 10/3/25: Variables, Types, Expressions"
   ]
  },
  {
   "cell_type": "markdown",
   "id": "253ad104",
   "metadata": {},
   "source": [
    "1.1 Type Casting Example"
   ]
  },
  {
   "cell_type": "code",
   "execution_count": 27,
   "id": "b177e0e8",
   "metadata": {},
   "outputs": [
    {
     "name": "stdout",
     "output_type": "stream",
     "text": [
      "25\n"
     ]
    }
   ],
   "source": [
    "number = \"13\"\n",
    "print (int(number) + 12)"
   ]
  },
  {
   "cell_type": "markdown",
   "id": "eb0913ca",
   "metadata": {},
   "source": [
    "1.2 Fahrenheit to Celsius Converter"
   ]
  },
  {
   "cell_type": "code",
   "execution_count": 28,
   "id": "e05e51bd",
   "metadata": {},
   "outputs": [
    {
     "ename": "ValueError",
     "evalue": "invalid literal for int() with base 10: ''",
     "output_type": "error",
     "traceback": [
      "\u001b[31m---------------------------------------------------------------------------\u001b[39m",
      "\u001b[31mValueError\u001b[39m                                Traceback (most recent call last)",
      "\u001b[36mCell\u001b[39m\u001b[36m \u001b[39m\u001b[32mIn[28]\u001b[39m\u001b[32m, line 6\u001b[39m\n\u001b[32m      3\u001b[39m \u001b[38;5;28;01mdef\u001b[39;00m\u001b[38;5;250m \u001b[39m\u001b[34mconvert_temp\u001b[39m(t):\n\u001b[32m      4\u001b[39m     \u001b[38;5;28;01mreturn\u001b[39;00m (t-\u001b[32m32\u001b[39m) / \u001b[32m1.8\u001b[39m\n\u001b[32m----> \u001b[39m\u001b[32m6\u001b[39m \u001b[38;5;28mprint\u001b[39m(convert_temp(\u001b[38;5;28;43mint\u001b[39;49m\u001b[43m(\u001b[49m\u001b[43mtemp\u001b[49m\u001b[43m)\u001b[49m))\n",
      "\u001b[31mValueError\u001b[39m: invalid literal for int() with base 10: ''"
     ]
    }
   ],
   "source": [
    "temp = input(\"Enter temperature in Fahrenheit: \")\n",
    "\n",
    "def convert_temp(t):\n",
    "    return (t-32) / 1.8\n",
    "\n",
    "print(convert_temp(int(temp)))\n"
   ]
  },
  {
   "cell_type": "markdown",
   "id": "4c01acdd",
   "metadata": {},
   "source": [
    "1.3 Feet to Inches Converter"
   ]
  },
  {
   "cell_type": "code",
   "execution_count": null,
   "id": "8e8bc224",
   "metadata": {},
   "outputs": [
    {
     "name": "stdout",
     "output_type": "stream",
     "text": [
      "That's tall!\n",
      "218.44 cm\n"
     ]
    }
   ],
   "source": [
    "f = 7\n",
    "i = 2\n",
    "\n",
    "\n",
    "def feet_to_inches(feet):\n",
    "    return feet * 12\n",
    "def inches_to_cm(inches):\n",
    "    return inches * 2.54\n",
    "\n",
    "\n",
    "inch_conv = feet_to_inches(f) + i\n",
    "conv = inches_to_cm(inch_conv)\n",
    "\n",
    "if conv > 200:\n",
    "    print(\"That's tall!\")\n",
    "    print(f\"{conv} cm\")\n",
    "elif conv > 100:\n",
    "    print(\"That's average.\")\n",
    "    print(f\"{conv} cm\")\n",
    "else:\n",
    "    print(\"That's short.\")\n",
    "    print(f\"{conv} cm\")"
   ]
  },
  {
   "cell_type": "markdown",
   "id": "90190e6d",
   "metadata": {},
   "source": [
    "Print 1-10"
   ]
  },
  {
   "cell_type": "code",
   "execution_count": null,
   "id": "a9c04bdb",
   "metadata": {},
   "outputs": [
    {
     "name": "stdout",
     "output_type": "stream",
     "text": [
      "12345678910"
     ]
    }
   ],
   "source": [
    "for i in range(1,11):\n",
    "    print(f\"{i}\", end=\"\")"
   ]
  },
  {
   "cell_type": "markdown",
   "id": "9f2c9bb1",
   "metadata": {},
   "source": [
    "Grade Calculation"
   ]
  },
  {
   "cell_type": "code",
   "execution_count": 30,
   "id": "451e258b",
   "metadata": {},
   "outputs": [
    {
     "name": "stdout",
     "output_type": "stream",
     "text": [
      "Done Grading\n",
      "['F', 'F', 'A', 'A', 'F', 'F']\n"
     ]
    }
   ],
   "source": [
    "scores = [17,30,100,99,52,1]\n",
    "def calculate_grades(scores):\n",
    "    grades = []\n",
    "    for score in scores:\n",
    "        if score >= 90:\n",
    "            grades.append(\"A\")\n",
    "        elif score >= 80:\n",
    "             grades.append(\"B\")\n",
    "        elif score >= 70:\n",
    "            grades.append(\"C\")\n",
    "        elif score >= 60:\n",
    "            grades.append(\"D\")\n",
    "        else:\n",
    "            grades.append(\"F\")\n",
    "    print(\"Done Grading\")\n",
    "    return grades\n",
    "print(calculate_grades(scores))"
   ]
  },
  {
   "cell_type": "code",
   "execution_count": 2,
   "id": "220601ae",
   "metadata": {},
   "outputs": [
    {
     "name": "stdout",
     "output_type": "stream",
     "text": [
      "0\n",
      "2\n",
      "4\n",
      "6\n",
      "8\n",
      "10\n",
      "-1\n"
     ]
    }
   ],
   "source": [
    "inputs = [0, 2, 4, 6, 8, 10, -1, 10, 8, 6, 4, 2]\n",
    "for i in inputs:\n",
    "    print(i)\n",
    "    if i == -1:\n",
    "        break"
   ]
  }
 ],
 "metadata": {
  "kernelspec": {
   "display_name": ".venv",
   "language": "python",
   "name": "python3"
  },
  "language_info": {
   "codemirror_mode": {
    "name": "ipython",
    "version": 3
   },
   "file_extension": ".py",
   "mimetype": "text/x-python",
   "name": "python",
   "nbconvert_exporter": "python",
   "pygments_lexer": "ipython3",
   "version": "3.12.3"
  }
 },
 "nbformat": 4,
 "nbformat_minor": 5
}
