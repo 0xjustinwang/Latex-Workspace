{
 "cells": [
  {
   "cell_type": "markdown",
   "id": "1c70dabf",
   "metadata": {
    "vscode": {
     "languageId": "latex"
    }
   },
   "source": [
    "Notes 10/3/25: Variables, Types, Expressions"
   ]
  },
  {
   "cell_type": "markdown",
   "id": "253ad104",
   "metadata": {},
   "source": [
    "1.1 Type Casting Example"
   ]
  },
  {
   "cell_type": "code",
   "execution_count": 18,
   "id": "b177e0e8",
   "metadata": {},
   "outputs": [
    {
     "name": "stdout",
     "output_type": "stream",
     "text": [
      "25\n"
     ]
    }
   ],
   "source": [
    "number = \"13\"\n",
    "print (int(number) + 12)"
   ]
  },
  {
   "cell_type": "markdown",
   "id": "eb0913ca",
   "metadata": {},
   "source": [
    "1.2 Fahrenheit to Celsius Converter"
   ]
  },
  {
   "cell_type": "code",
   "execution_count": 19,
   "id": "e05e51bd",
   "metadata": {},
   "outputs": [
    {
     "ename": "ValueError",
     "evalue": "invalid literal for int() with base 10: ''",
     "output_type": "error",
     "traceback": [
      "\u001b[31m---------------------------------------------------------------------------\u001b[39m",
      "\u001b[31mValueError\u001b[39m                                Traceback (most recent call last)",
      "\u001b[36mCell\u001b[39m\u001b[36m \u001b[39m\u001b[32mIn[19]\u001b[39m\u001b[32m, line 6\u001b[39m\n\u001b[32m      3\u001b[39m \u001b[38;5;28;01mdef\u001b[39;00m\u001b[38;5;250m \u001b[39m\u001b[34mconvert_temp\u001b[39m(t):\n\u001b[32m      4\u001b[39m     \u001b[38;5;28;01mreturn\u001b[39;00m (t-\u001b[32m32\u001b[39m) / \u001b[32m1.8\u001b[39m\n\u001b[32m----> \u001b[39m\u001b[32m6\u001b[39m \u001b[38;5;28mprint\u001b[39m(convert_temp(\u001b[38;5;28;43mint\u001b[39;49m\u001b[43m(\u001b[49m\u001b[43mtemp\u001b[49m\u001b[43m)\u001b[49m))\n",
      "\u001b[31mValueError\u001b[39m: invalid literal for int() with base 10: ''"
     ]
    }
   ],
   "source": [
    "temp = input(\"Enter temperature in Fahrenheit: \")\n",
    "\n",
    "def convert_temp(t):\n",
    "    return (t-32) / 1.8\n",
    "\n",
    "print(convert_temp(int(temp)))\n"
   ]
  },
  {
   "cell_type": "markdown",
   "id": "4c01acdd",
   "metadata": {},
   "source": [
    "1.3 Feet to Inches Converter"
   ]
  },
  {
   "cell_type": "code",
   "execution_count": null,
   "id": "8e8bc224",
   "metadata": {},
   "outputs": [
    {
     "name": "stdout",
     "output_type": "stream",
     "text": [
      "That's tall!\n",
      "218.44 cm\n"
     ]
    }
   ],
   "source": [
    "f = 7\n",
    "i = 2\n",
    "\n",
    "\n",
    "def feet_to_inches(feet):\n",
    "    return feet * 12\n",
    "def inches_to_cm(inches):\n",
    "    return inches * 2.54\n",
    "\n",
    "\n",
    "inch_conv = feet_to_inches(f) + i\n",
    "conv = inches_to_cm(inch_conv)\n",
    "\n",
    "if conv > 200:\n",
    "    print(\"That's tall!\")\n",
    "    print(f\"{conv} cm\")\n",
    "elif conv > 100:\n",
    "    print(\"That's average.\")\n",
    "    print(f\"{conv} cm\")\n",
    "else:\n",
    "    print(\"That's short.\")\n",
    "    print(f\"{conv} cm\")"
   ]
  },
  {
   "cell_type": "markdown",
   "id": "90190e6d",
   "metadata": {},
   "source": [
    "Print 1-10"
   ]
  },
  {
   "cell_type": "code",
   "execution_count": null,
   "id": "a9c04bdb",
   "metadata": {},
   "outputs": [
    {
     "name": "stdout",
     "output_type": "stream",
     "text": [
      "12345678910"
     ]
    }
   ],
   "source": [
    "for i in range(1,11):\n",
    "    print(f\"{i}\", end=\"\")"
   ]
  },
  {
   "cell_type": "markdown",
   "id": "9f2c9bb1",
   "metadata": {},
   "source": [
    "Grade Calculation"
   ]
  },
  {
   "cell_type": "code",
   "execution_count": null,
   "id": "451e258b",
   "metadata": {},
   "outputs": [
    {
     "name": "stdout",
     "output_type": "stream",
     "text": [
      "Done Grading\n",
      "['F', 'F', 'A', 'A', 'F', 'F']\n"
     ]
    }
   ],
   "source": [
    "scores = [17,30,100,99,52,1]\n",
    "def calculate_grades(scores):\n",
    "    grades = []\n",
    "    for score in scores:\n",
    "        if score >= 90:\n",
    "            grades.append(\"A\")\n",
    "        elif score >= 80:\n",
    "             grades.append(\"B\")\n",
    "        elif score >= 70:\n",
    "            grades.append(\"C\")\n",
    "        elif score >= 60:\n",
    "            grades.append(\"D\")\n",
    "        else:\n",
    "            grades.append(\"F\")\n",
    "    print(\"Done Grading\")\n",
    "    return grades\n",
    "print(calculate_grades(scores))"
   ]
  },
  {
   "cell_type": "code",
   "execution_count": null,
   "id": "220601ae",
   "metadata": {},
   "outputs": [
    {
     "name": "stdout",
     "output_type": "stream",
     "text": [
      "0\n",
      "2\n",
      "4\n",
      "6\n",
      "8\n",
      "10\n",
      "-1\n"
     ]
    }
   ],
   "source": [
    "inputs = [0, 2, 4, 6, 8, 10, -1, 10, 8, 6, 4, 2]\n",
    "for i in inputs:\n",
    "    print(i)\n",
    "    if i == -1:\n",
    "        break"
   ]
  },
  {
   "cell_type": "markdown",
   "id": "6d03311f",
   "metadata": {},
   "source": [
    "String Methods"
   ]
  },
  {
   "cell_type": "code",
   "execution_count": null,
   "id": "e4018c04",
   "metadata": {},
   "outputs": [
    {
     "name": "stdout",
     "output_type": "stream",
     "text": [
      "14\n",
      "['John Doe', 'Smith']\n",
      "['John', 'Doe-Smith']\n",
      "['John Doe', 'Smith']\n",
      "True\n"
     ]
    }
   ],
   "source": [
    "full_name = \"John Doe-Smith\"\n",
    "print(len(full_name))\n",
    "second_name = 'Elizabeth de sea Silva'\n",
    "list_from_my_name = full_name.split('-')\n",
    "print(list_from_my_name)\n",
    "print(full_name.split(' '))\n",
    "lst = [list_from_my_name[0], list_from_my_name[1]]\n",
    "print(lst)\n",
    "\n",
    "\n",
    "food = [\"apple\", \"banana\", \"orange\"]\n",
    "print(\"a\" in food[0])"
   ]
  },
  {
   "cell_type": "markdown",
   "id": "2defb35c",
   "metadata": {},
   "source": [
    "List of Lists"
   ]
  },
  {
   "cell_type": "code",
   "execution_count": null,
   "id": "9b8a7ce2",
   "metadata": {},
   "outputs": [
    {
     "name": "stdout",
     "output_type": "stream",
     "text": [
      "[65, 'A']\n",
      "A\n",
      "65\n",
      "A\n"
     ]
    }
   ],
   "source": [
    "ascii_subset = [\n",
    "        [65, 'A'],\n",
    "        [66, 'B'],\n",
    "        [67, 'C'],\n",
    "        [68, 'D'],\n",
    "        [69, 'E'],\n",
    "    ]\n",
    "print(ascii_subset[0])  # [65, 'A']\n",
    "print(ascii_subset[0][1])  # 'A'\n",
    "\n",
    "##ord()\n",
    "print(ord('A'))  # 65\n",
    "\n",
    "##chr()\n",
    "print(chr(65))  # 'A'"
   ]
  },
  {
   "cell_type": "code",
   "execution_count": null,
   "id": "65f2c59e",
   "metadata": {},
   "outputs": [
    {
     "name": "stdout",
     "output_type": "stream",
     "text": [
      "['P', 'M', 'T']\n"
     ]
    }
   ],
   "source": [
    "books = [\"pride and Prejudice\", \"moby Dick\", \"to Kill a Mockingbird\"]\n",
    "book_section = []\n",
    "\n",
    "for b in books:\n",
    "    if b != \"\":\n",
    "        unicode_num = ord(b[0])\n",
    "\n",
    "    if 97 < unicode_num < 122:\n",
    "        unicode_num = unicode_num - 32\n",
    "        book_section.append(chr(unicode_num))\n",
    "print(book_section)"
   ]
  },
  {
   "cell_type": "code",
   "execution_count": null,
   "id": "0e37fbd1",
   "metadata": {},
   "outputs": [
    {
     "name": "stdout",
     "output_type": "stream",
     "text": [
      "[24, 9, 9, 12, 34, 1, 5, 18, 16, 2, 5, 4, 10, 16, 10, 4, 0, 18, 6, 19, 3, 4, 4, 0, 8, 1]\n"
     ]
    }
   ],
   "source": [
    "\n",
    "\n",
    "books = [\"pride and Prejudice\", \"moby Dick\", \"to Kill a Mockingbird\", \"Brave New World\", \"The Great Gatsby\", \"The Catcher in the Rye\", \"The Hobbit\", \"Fahrenheit\", \"Jane Eyre\", \"Wuthering Heights\", \"The Odyssey\", \"Crime and Punishment\", \"The Brothers Karamazov\", \"War and Peace\", \"Anna Karenina\", \"Madame Bovary\", \"The Divine Comedy\", \"Hamlet\", \"Macbeth\"]\n",
    "\n",
    "alphabetical_list = [0]*26\n",
    "\n",
    "for b in books:\n",
    "    for i in range(len(b)):\n",
    "        chr_num = ord(b[i])\n",
    "        if 65 <= chr_num <= 90: #uppercase\n",
    "            alphabetical_list[chr_num - 65] += 1\n",
    "        if 97 <= chr_num <= 122: #uppercase\n",
    "            alphabetical_list[chr_num - 97] += 1\n",
    "\n",
    "print(alphabetical_list)"
   ]
  },
  {
   "cell_type": "markdown",
   "id": "1443a1d4",
   "metadata": {},
   "source": [
    "Lists of Lists, List of RGB values in tuples"
   ]
  },
  {
   "cell_type": "code",
   "execution_count": null,
   "id": "8a7affa2",
   "metadata": {},
   "outputs": [],
   "source": [
    "stripe_image = [\n",
    "    [(255, 0, 0), (255, 0, 0), (255, 0, 0)],\n",
    "    [(0, 255, 0), (0, 255, 0), (0, 255, 0)],\n",
    "    [(0, 0, 255), (0, 0, 255), (0, 0, 255)],\n",
    "    [(255, 255, 0), (255, 255, 0), (255, 255, 0)],\n",
    "    [(0, 255, 255), (0, 255, 255), (0, 255, 255)],\n",
    "    [(255, 0, 255), (255, 0, 255), (255, 0, 255)],\n",
    "    [(0, 0, 0), (0, 0, 0), (0, 0, 0)],\n",
    "]\n",
    "def get_pixel(image, x, y):\n",
    "\n",
    "#Image starts from (0, 0) on the coordinate plane.\n",
    "    return image[x][y]\n",
    "\n",
    "def get_red_value(pixel):\n",
    "    return pixel[0]\n",
    "\n",
    "def get_green_value(pixel):\n",
    "    return pixel[1]\n",
    "\n",
    "def get_blue_value(pixel):\n",
    "    return pixel[2]\n",
    "\n",
    "\n"
   ]
  },
  {
   "cell_type": "markdown",
   "id": "61ac23a5",
   "metadata": {},
   "source": [
    "Average Luminance"
   ]
  },
  {
   "cell_type": "code",
   "execution_count": null,
   "id": "53682bbb",
   "metadata": {},
   "outputs": [
    {
     "name": "stdout",
     "output_type": "stream",
     "text": [
      "148.0\n"
     ]
    }
   ],
   "source": [
    "import math\n",
    "\n",
    "\n",
    "def average_luminance(image):\n",
    "    acc = 0 \n",
    "    for n in image: #outer list/ list of rows\n",
    "        for m in n: #inner list/ list of pixels\n",
    "            red = m[0]\n",
    "            green = m[1]\n",
    "            blue = m[2]\n",
    "\n",
    "            acc += math.floor(math.sqrt(0.299 * (red ** 2) + 0.587 * (green ** 2) + 0.114 * (blue ** 2)))\n",
    "\n",
    "    average = acc / (len(image) * len(image[0]))\n",
    "    return average\n",
    "\n",
    "print(average_luminance(stripe_image))\n",
    "\n",
    "def copy_image_size(image):\n",
    "    height = len(image)\n",
    "    width = len(image[0])\n",
    "\n",
    "    empty_list = []\n",
    "\n",
    "    for i in range(height):\n",
    "        empty_list.append([0]*width)\n",
    "\n",
    "    return empty_list\n",
    "\n",
    "\n",
    "def rotate(image):\n",
    "    height = len(image)\n",
    "    width = len(image[0])\n",
    "\n",
    "    # making a list of x items set at 0: [0]*x\n",
    "\n",
    "    new_image = copy_image_size(height, width)\n",
    "\n",
    "    # [0][0] --> new_image[height][width]\n",
    "    \n",
    "    for n in image: #outer list\n",
    "        for m in n # inner list\n",
    "        \n",
    "\n",
    "\n"
   ]
  },
  {
   "cell_type": "code",
   "execution_count": null,
   "id": "a5dfd74d",
   "metadata": {},
   "outputs": [
    {
     "name": "stdout",
     "output_type": "stream",
     "text": [
      "[1, 2, 5, 5]\n",
      "[1, 2, 4, 5]\n"
     ]
    }
   ],
   "source": [
    "#Making a copy of a list\n",
    "x = [1, 2, 4, 5]\n",
    "def copy_list(x):\n",
    "    y = x[:]\n",
    "    y[2] = 5\n",
    "    return y\n",
    "print(copy_list(x))\n",
    "print(x)\n",
    "\n"
   ]
  },
  {
   "cell_type": "code",
   "execution_count": 63,
   "id": "8d85edfc",
   "metadata": {},
   "outputs": [
    {
     "name": "stdout",
     "output_type": "stream",
     "text": [
      "[1, 4, 5, 5]\n",
      "[1, 4, 5, 5]\n"
     ]
    }
   ],
   "source": [
    "#Notice how x changes as well\n",
    "x = [1, 4, 4, 5]\n",
    "y = x\n",
    "y[2] = 5\n",
    "print(y)\n",
    "print(x)"
   ]
  },
  {
   "cell_type": "code",
   "execution_count": 64,
   "id": "dfd44495",
   "metadata": {},
   "outputs": [
    {
     "ename": "SyntaxError",
     "evalue": "'(' was never closed (1812199698.py, line 84)",
     "output_type": "error",
     "traceback": [
      "  \u001b[36mCell\u001b[39m\u001b[36m \u001b[39m\u001b[32mIn[64]\u001b[39m\u001b[32m, line 84\u001b[39m\n\u001b[31m    \u001b[39m\u001b[31mprint(fridge[\"Energy Drink\"][\"Redbull\"]\u001b[39m\n         ^\n\u001b[31mSyntaxError\u001b[39m\u001b[31m:\u001b[39m '(' was never closed\n"
     ]
    }
   ],
   "source": [
    "### COPYING MUTABLE ITEMS\n",
    "\n",
    "new_image = stripe_image # not a copy -- just a rename\n",
    "\n",
    "## shallow copy -- a copy that references the original elements\n",
    "shallow_copy = []\n",
    "\n",
    "for row in stripe_image:\n",
    "\tshallow_copy.append(row)\n",
    "\n",
    "print(\"0, 0, in original image:\" + str(stripe_image[0][0]))\n",
    "print(\"0, 0, in shallow copy:\" + str(shallow_copy[0][0]))\n",
    "\n",
    "stripe_image[0][0] = (0, 0, 0)\n",
    "\n",
    "print(\"0, 0, changed in original image:\" + str(stripe_image[0][0]))\n",
    "print(\"0, 0, in shallow copy:\" + str(stripe_image[0][0]))\n",
    "# prints the same because it is a shallow copy\n",
    "\n",
    "print(id(stripe_image[0]))\n",
    "print(id(shallow_copy[0]))\n",
    "# returns the same id\n",
    "\n",
    "print(id(stripe_image))\n",
    "print(id(shallow_copy))\n",
    "# returns different id's because the outer list is a new list which references the inner lists\n",
    "\n",
    "import copy\n",
    "\n",
    "shallow_copy2 = copy.copy(stripe_image)\n",
    "# also creates a shallow copy\n",
    "\n",
    "## deep copy -- its own thing, contains all of its won values\n",
    "# method 1:\n",
    "\n",
    "deep_copy = []\n",
    "for row in stripe_image:\n",
    "\tdeep_copy.append([])\n",
    "\n",
    "for i, row in enumerate(stripe_image):\n",
    "\tfor pixel in row:\n",
    "\t\tdeep_copy[i].append(pixel)\n",
    "\n",
    "# when you print the ids for stripe_image[0]\n",
    "\n",
    "# method 2:\n",
    "\n",
    "for row in stripe_image:\n",
    "\tdeep_copy.append(row[:])\n",
    "\n",
    "# method 3:\n",
    "deep_copy = copy.deepcopy(stripe_image)\n",
    "\n",
    "# Demo from lecture 9\n",
    "\n",
    "books = [...]\n",
    "book_section = uppercase_first_letter(books)\n",
    "pprint(book_section)\n",
    "\n",
    "## Why do we want this list?\n",
    "# - to know what section a book goes in, \n",
    "\n",
    "### DICTIONARIES\n",
    "# stores a collection of value (unordered)\n",
    "# organized as keys mapped to values\n",
    "# keys have to be unique\n",
    "# mutable\n",
    "# {key1: value1, key2: value2...}\n",
    "\n",
    "# new/empty dictionary:\n",
    "\n",
    "fridge = {}\n",
    "\n",
    "# adding a key/value\n",
    "fridge[\"Apple\"] = 4.0\n",
    "fridge[\"Energy Drink\"] = {\"Redbull\": 5.0, \"Celsius\": 7.0}\n",
    "\n",
    "print(fridge)\n",
    "\n",
    "# replace value\n",
    "fridge[\"Apple\"] -= 1.0\n",
    "\n",
    "# dictionary inside dictionary\n",
    "print(fridge[\"Energy Drink\"][\"Redbull\"]\n",
    "\n",
    "# value that doesn't exist\n",
    "fridge[\"Orange\"]\n",
    "\n",
    "# added another key\n",
    "fridge[\"Orange\"] = 1.0\n",
    "\n",
    "# deleting a key / value pair\n",
    "del fridge[\"Orange\"]\n",
    "\n",
    "# looping through a dictionary\n",
    "for key in fridge:\n",
    "\tprint(key + \": \" + str(fridge[key]))\n",
    "\n",
    "# check if a key occurs in a dictionary\n",
    "print(\"Grape\" in fridge) # returns False\n",
    "\n",
    "# using values in a conditional statement\n",
    "if fridge[\"Apple\"] >= 5:\n",
    "\tprint(\"I can make apple pie\")\n",
    "else:\n",
    "\tprint(\"I cannot make apple pie\")\n",
    "\n",
    "# list all keys\n",
    "print(fridge.keys())\n",
    "print(fridge.values())\n",
    "\n",
    "letter_dict = {}\n",
    "for b in book_section:\n",
    "\tif b in letter_dict:\n",
    "\t\tletter_dict[b] += 1\n",
    "\telse:\n",
    "\t\tletter_dict[b] = 1"
   ]
  },
  {
   "cell_type": "markdown",
   "id": "01151e2c",
   "metadata": {},
   "source": [
    "Dictionaries (10/27/25)"
   ]
  },
  {
   "cell_type": "code",
   "execution_count": 65,
   "id": "1bfe8a39",
   "metadata": {},
   "outputs": [
    {
     "name": "stdout",
     "output_type": "stream",
     "text": [
      "11.3\n",
      "{'apple': 10, 'banana': 5, 'watermelon': 2, 'orange': 7}\n",
      "None\n",
      "{'banana': 5, 'watermelon': 2, 'orange': 7}\n",
      "None\n",
      "{'banana': 5, 'watermelon': 2, 'orange': 7, 'pear': 1}\n"
     ]
    }
   ],
   "source": [
    "inventory = {\n",
    "    \"apple\": 10,\n",
    "    \"banana\": 5,\n",
    "    \"watermelon\": 2,\n",
    "    \"orange\": 7\n",
    "}\n",
    "\n",
    "item_weights = {\n",
    "    \"apple\": 0.3,       # kg each\n",
    "    \"banana\": 0.25,\n",
    "    \"watermelon\": 3.0,\n",
    "    \"orange\": 0.15\n",
    "}\n",
    "def calculate_storage_weight(inventory, item_weights):\n",
    "    \"\"\"\n",
    "    Inputs: \n",
    "        inventory (dict of str:int): all the items in storage\n",
    "        item_weights (dict str:float): the weight of items \n",
    "        that might be in storage\n",
    "    \n",
    "    Output: \n",
    "        float: the total weight of items.\n",
    "    \"\"\"\n",
    "    #set up variables\n",
    "    total_weight = 0\n",
    "\n",
    "    #computation\n",
    "    for item, quantity in inventory.items():\n",
    "        item_weight = quantity * item_weights[item]\n",
    "        total_weight += item_weight\n",
    "\n",
    "    #output\n",
    "    return total_weight\n",
    "\n",
    "def remove_item_from_storage(item, inventory):\n",
    "    \"\"\"\n",
    "    Inputs:\n",
    "        item (str): an item to remove\n",
    "        inventory (dict of str: int): items in storage\n",
    "    Output:\n",
    "        changes dictionary in place\n",
    "    \"\"\"\n",
    "    if item in inventory:\n",
    "        del inventory[item]\n",
    "    else:\n",
    "        return None\n",
    "\n",
    "def add_item_to_storage(item, inventory):\n",
    "    if item in inventory:\n",
    "        inventory[item] += 1\n",
    "    else: \n",
    "        inventory[item] = 1\n",
    "\n",
    "\n",
    "print(calculate_storage_weight(inventory, item_weights))\n",
    "print(inventory)\n",
    "print(remove_item_from_storage(\"apple\", inventory))\n",
    "print(inventory)\n",
    "print(add_item_to_storage(\"pear\", inventory))\n",
    "print(inventory)\n",
    "\n"
   ]
  },
  {
   "cell_type": "code",
   "execution_count": 68,
   "id": "1f715e25",
   "metadata": {},
   "outputs": [
    {
     "name": "stdout",
     "output_type": "stream",
     "text": [
      "{'Apple': 4.0, 'Energy Drink': {'Redbull': 5.0, 'Celsius': 7.0}}\n"
     ]
    }
   ],
   "source": [
    "fridge = {}\n",
    "fridge[\"Apple\"] = 4.0\n",
    "fridge[\"Energy Drink\"] = {\"Redbull\": 5.0, \"Celsius\": 7.0}\n",
    "print(fridge)\n"
   ]
  },
  {
   "cell_type": "code",
   "execution_count": null,
   "id": "33a574f9",
   "metadata": {},
   "outputs": [
    {
     "name": "stdout",
     "output_type": "stream",
     "text": [
      "3\n",
      "True\n",
      "False\n",
      "True\n",
      "False\n",
      "{'ramen', 'fried rice', 'pasta', 'pizza', 'tacos', 'pupusas'}\n",
      "{'ramen', 'fried rice', 'pasta', 'pizza', 'tacos', 'pupusas'}\n",
      "set()\n",
      "set()\n"
     ]
    }
   ],
   "source": [
    "### Sets\n",
    "# a collection of unordered unique elements\n",
    "\n",
    "S = {\"fried rice\", \"ramen\", \"pasta\"}\n",
    "T = set([\"tacos\", \"pupusas\", \"pizza\"])\n",
    "\n",
    "#empty set\n",
    "U = set()\n",
    "\n",
    "#add set elements\n",
    "U.add(\"pizza\")\n",
    "\n",
    "## remove set elements\n",
    "U.discard(\"pizza\")  \n",
    "\n",
    "#number of items in set\n",
    "len(S)\n",
    "print(len(S))\n",
    "\n",
    "#membership\n",
    "print(\"ramen\" in S)\n",
    "print(\"ramen\" in T)\n",
    "\n",
    "#subset\n",
    "print(U.issubset(T))\n",
    "print(S.issubset(T))\n",
    "\n",
    "#union of a set\n",
    "V = S.union(T)\n",
    "print(V)\n",
    "V = S | T\n",
    "print(V)\n",
    "\n",
    "#intersection of a set\n",
    "V = S.intersection(T)\n",
    "W = S & T\n",
    "print(V)\n",
    "print(W)\n",
    "\n",
    "#difference of a set\n",
    "Y = T.difference(U)\n",
    "Y = T - U\n",
    "\n",
    "\n",
    "\n",
    "\n"
   ]
  },
  {
   "cell_type": "code",
   "execution_count": null,
   "id": "0e890d8e",
   "metadata": {},
   "outputs": [],
   "source": [
    "### Choosing Data Structures\n",
    "\"\"\"\n",
    "variables (singular values, mutable), \n",
    "lists (multiple values, ordered, mutable),\n",
    "lists of lists (2D/3D lists, mutable, values ordered),\n",
    "tuples (immutable, multiple values, ordered),\n",
    "dictionaries (unordered, key and value pairs),\n",
    "sets (unordered, mutale, unique values)\n",
    "\"\"\"\n",
    "\n",
    "#Examples use cases for each data structure:\n",
    "\n",
    "\"\"\"\n",
    "items in a shopping cart as they are being added, and their prices\n",
    "\n",
    "dict: items --> costs\n",
    "dict: items --> amounts\n",
    "\"\"\"\n",
    "\n",
    "item_cost_amounts= {\"apple\" : {\"cost\" : 3,\n",
    "                               \"amount\" : 3\n",
    "                               }\n",
    "}\n",
    "\n",
    "\n",
    "\n"
   ]
  }
 ],
 "metadata": {
  "kernelspec": {
   "display_name": ".venv",
   "language": "python",
   "name": "python3"
  },
  "language_info": {
   "codemirror_mode": {
    "name": "ipython",
    "version": 3
   },
   "file_extension": ".py",
   "mimetype": "text/x-python",
   "name": "python",
   "nbconvert_exporter": "python",
   "pygments_lexer": "ipython3",
   "version": "3.12.3"
  }
 },
 "nbformat": 4,
 "nbformat_minor": 5
}
