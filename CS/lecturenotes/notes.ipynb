{
 "cells": [
  {
   "cell_type": "markdown",
   "id": "1c70dabf",
   "metadata": {
    "vscode": {
     "languageId": "latex"
    }
   },
   "source": [
    "Notes 10/3/25: Variables, Types, Expressions"
   ]
  },
  {
   "cell_type": "markdown",
   "id": "253ad104",
   "metadata": {},
   "source": [
    "1.1 Type Casting Example"
   ]
  },
  {
   "cell_type": "code",
   "execution_count": 3,
   "id": "b177e0e8",
   "metadata": {},
   "outputs": [
    {
     "name": "stdout",
     "output_type": "stream",
     "text": [
      "25\n"
     ]
    }
   ],
   "source": [
    "number = \"13\"\n",
    "print (int(number) + 12)"
   ]
  },
  {
   "cell_type": "markdown",
   "id": "eb0913ca",
   "metadata": {},
   "source": [
    "1.2 Fahrenheit to Celsius Converter"
   ]
  },
  {
   "cell_type": "code",
   "execution_count": 4,
   "id": "e05e51bd",
   "metadata": {},
   "outputs": [
    {
     "name": "stdout",
     "output_type": "stream",
     "text": [
      "-11.11111111111111\n"
     ]
    }
   ],
   "source": [
    "temp = input(\"Enter temperature in Fahrenheit: \")\n",
    "\n",
    "def convert_temp(t):\n",
    "    return (t-32) / 1.8\n",
    "\n",
    "print(convert_temp(int(temp)))\n"
   ]
  },
  {
   "cell_type": "markdown",
   "id": "4c01acdd",
   "metadata": {},
   "source": [
    "1.3 Feet to Inches Converter"
   ]
  },
  {
   "cell_type": "code",
   "execution_count": 12,
   "id": "8e8bc224",
   "metadata": {},
   "outputs": [
    {
     "name": "stdout",
     "output_type": "stream",
     "text": [
      "That's tall!\n",
      "218.44 cm\n"
     ]
    }
   ],
   "source": [
    "f = 7\n",
    "i = 2\n",
    "\n",
    "\n",
    "def feet_to_inches(feet):\n",
    "    return feet * 12\n",
    "def inches_to_cm(inches):\n",
    "    return inches * 2.54\n",
    "\n",
    "\n",
    "inch_conv = feet_to_inches(f) + i\n",
    "conv = inches_to_cm(inch_conv)\n",
    "\n",
    "if conv > 200:\n",
    "    print(\"That's tall!\")\n",
    "    print(f\"{conv} cm\")\n",
    "elif conv > 100:\n",
    "    print(\"That's average.\")\n",
    "    print(f\"{conv} cm\")\n",
    "else:\n",
    "    print(\"That's short.\")\n",
    "    print(f\"{conv} cm\")"
   ]
  }
 ],
 "metadata": {
  "kernelspec": {
   "display_name": ".venv",
   "language": "python",
   "name": "python3"
  },
  "language_info": {
   "codemirror_mode": {
    "name": "ipython",
    "version": 3
   },
   "file_extension": ".py",
   "mimetype": "text/x-python",
   "name": "python",
   "nbconvert_exporter": "python",
   "pygments_lexer": "ipython3",
   "version": "3.12.3"
  }
 },
 "nbformat": 4,
 "nbformat_minor": 5
}
